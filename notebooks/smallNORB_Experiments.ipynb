{
  "nbformat": 4,
  "nbformat_minor": 0,
  "metadata": {
    "colab": {
      "name": "smallNORB Experiments.ipynb",
      "version": "0.3.2",
      "provenance": [],
      "collapsed_sections": [],
      "toc_visible": true
    },
    "kernelspec": {
      "name": "python3",
      "display_name": "Python 3"
    },
    "accelerator": "GPU"
  },
  "cells": [
    {
      "cell_type": "markdown",
      "metadata": {
        "id": "YR2OJ0eL-5Oh",
        "colab_type": "text"
      },
      "source": [
        "# Prepare Dataset\n",
        "\n",
        "Download and prepare dataset for training"
      ]
    },
    {
      "cell_type": "code",
      "metadata": {
        "id": "cjzBjnQ7-uTh",
        "colab_type": "code",
        "cellView": "both",
        "outputId": "230d3878-768b-4719-fadc-509d26520194",
        "colab": {
          "base_uri": "https://localhost:8080/",
          "height": 1000
        }
      },
      "source": [
        "#@title Download Dataset\n",
        "!rm -r *\n",
        "!wget https://cs.nyu.edu/~ylclab/data/norb-v1.0-small/smallnorb-5x46789x9x18x6x2x96x96-training-dat.mat.gz\n",
        "!wget https://cs.nyu.edu/~ylclab/data/norb-v1.0-small/smallnorb-5x46789x9x18x6x2x96x96-training-cat.mat.gz\n",
        "!wget https://cs.nyu.edu/~ylclab/data/norb-v1.0-small/smallnorb-5x46789x9x18x6x2x96x96-training-info.mat.gz\n",
        "!wget https://cs.nyu.edu/~ylclab/data/norb-v1.0-small/smallnorb-5x01235x9x18x6x2x96x96-testing-dat.mat.gz\n",
        "!wget https://cs.nyu.edu/~ylclab/data/norb-v1.0-small/smallnorb-5x01235x9x18x6x2x96x96-testing-cat.mat.gz\n",
        "!wget https://cs.nyu.edu/~ylclab/data/norb-v1.0-small/smallnorb-5x01235x9x18x6x2x96x96-testing-info.mat.gz\n",
        "\n",
        "!mkdir dataset\n",
        "!mv *.gz dataset/\n",
        "!gunzip dataset/*.gz\n",
        "!rm dataset/*.gz\n",
        "\n"
      ],
      "execution_count": 1,
      "outputs": [
        {
          "output_type": "stream",
          "text": [
            "--2019-07-12 07:52:26--  https://cs.nyu.edu/~ylclab/data/norb-v1.0-small/smallnorb-5x46789x9x18x6x2x96x96-training-dat.mat.gz\n",
            "Resolving cs.nyu.edu (cs.nyu.edu)... 128.122.49.30\n",
            "Connecting to cs.nyu.edu (cs.nyu.edu)|128.122.49.30|:443... connected.\n",
            "HTTP request sent, awaiting response... 200 OK\n",
            "Length: 131896188 (126M) [application/x-gzip]\n",
            "Saving to: ‘smallnorb-5x46789x9x18x6x2x96x96-training-dat.mat.gz’\n",
            "\n",
            "smallnorb-5x46789x9 100%[===================>] 125.79M  14.8MB/s    in 10s     \n",
            "\n",
            "2019-07-12 07:52:37 (12.0 MB/s) - ‘smallnorb-5x46789x9x18x6x2x96x96-training-dat.mat.gz’ saved [131896188/131896188]\n",
            "\n",
            "--2019-07-12 07:52:40--  https://cs.nyu.edu/~ylclab/data/norb-v1.0-small/smallnorb-5x46789x9x18x6x2x96x96-training-cat.mat.gz\n",
            "Resolving cs.nyu.edu (cs.nyu.edu)... 128.122.49.30\n",
            "Connecting to cs.nyu.edu (cs.nyu.edu)|128.122.49.30|:443... connected.\n",
            "HTTP request sent, awaiting response... 200 OK\n",
            "Length: 348 [application/x-gzip]\n",
            "Saving to: ‘smallnorb-5x46789x9x18x6x2x96x96-training-cat.mat.gz’\n",
            "\n",
            "smallnorb-5x46789x9 100%[===================>]     348  --.-KB/s    in 0s      \n",
            "\n",
            "2019-07-12 07:52:40 (68.8 MB/s) - ‘smallnorb-5x46789x9x18x6x2x96x96-training-cat.mat.gz’ saved [348/348]\n",
            "\n",
            "--2019-07-12 07:52:43--  https://cs.nyu.edu/~ylclab/data/norb-v1.0-small/smallnorb-5x46789x9x18x6x2x96x96-training-info.mat.gz\n",
            "Resolving cs.nyu.edu (cs.nyu.edu)... 128.122.49.30\n",
            "Connecting to cs.nyu.edu (cs.nyu.edu)|128.122.49.30|:443... connected.\n",
            "HTTP request sent, awaiting response... 200 OK\n",
            "Length: 71052 (69K) [application/x-gzip]\n",
            "Saving to: ‘smallnorb-5x46789x9x18x6x2x96x96-training-info.mat.gz’\n",
            "\n",
            "smallnorb-5x46789x9 100%[===================>]  69.39K   177KB/s    in 0.4s    \n",
            "\n",
            "2019-07-12 07:52:44 (177 KB/s) - ‘smallnorb-5x46789x9x18x6x2x96x96-training-info.mat.gz’ saved [71052/71052]\n",
            "\n",
            "--2019-07-12 07:52:46--  https://cs.nyu.edu/~ylclab/data/norb-v1.0-small/smallnorb-5x01235x9x18x6x2x96x96-testing-dat.mat.gz\n",
            "Resolving cs.nyu.edu (cs.nyu.edu)... 128.122.49.30\n",
            "Connecting to cs.nyu.edu (cs.nyu.edu)|128.122.49.30|:443... connected.\n",
            "HTTP request sent, awaiting response... 200 OK\n",
            "Length: 130799817 (125M) [application/x-gzip]\n",
            "Saving to: ‘smallnorb-5x01235x9x18x6x2x96x96-testing-dat.mat.gz’\n",
            "\n",
            "smallnorb-5x01235x9 100%[===================>] 124.74M  15.1MB/s    in 9.7s    \n",
            "\n",
            "2019-07-12 07:52:57 (12.9 MB/s) - ‘smallnorb-5x01235x9x18x6x2x96x96-testing-dat.mat.gz’ saved [130799817/130799817]\n",
            "\n",
            "--2019-07-12 07:52:58--  https://cs.nyu.edu/~ylclab/data/norb-v1.0-small/smallnorb-5x01235x9x18x6x2x96x96-testing-cat.mat.gz\n",
            "Resolving cs.nyu.edu (cs.nyu.edu)... 128.122.49.30\n",
            "Connecting to cs.nyu.edu (cs.nyu.edu)|128.122.49.30|:443... connected.\n",
            "HTTP request sent, awaiting response... 200 OK\n",
            "Length: 347 [application/x-gzip]\n",
            "Saving to: ‘smallnorb-5x01235x9x18x6x2x96x96-testing-cat.mat.gz’\n",
            "\n",
            "smallnorb-5x01235x9 100%[===================>]     347  --.-KB/s    in 0s      \n",
            "\n",
            "2019-07-12 07:52:59 (60.3 MB/s) - ‘smallnorb-5x01235x9x18x6x2x96x96-testing-cat.mat.gz’ saved [347/347]\n",
            "\n",
            "--2019-07-12 07:53:01--  https://cs.nyu.edu/~ylclab/data/norb-v1.0-small/smallnorb-5x01235x9x18x6x2x96x96-testing-info.mat.gz\n",
            "Resolving cs.nyu.edu (cs.nyu.edu)... 128.122.49.30\n",
            "Connecting to cs.nyu.edu (cs.nyu.edu)|128.122.49.30|:443... connected.\n",
            "HTTP request sent, awaiting response... 200 OK\n",
            "Length: 10428 (10K) [application/x-gzip]\n",
            "Saving to: ‘smallnorb-5x01235x9x18x6x2x96x96-testing-info.mat.gz’\n",
            "\n",
            "smallnorb-5x01235x9 100%[===================>]  10.18K  --.-KB/s    in 0s      \n",
            "\n",
            "2019-07-12 07:53:02 (177 MB/s) - ‘smallnorb-5x01235x9x18x6x2x96x96-testing-info.mat.gz’ saved [10428/10428]\n",
            "\n",
            "rm: cannot remove 'dataset/*.gz': No such file or directory\n"
          ],
          "name": "stdout"
        }
      ]
    },
    {
      "cell_type": "code",
      "metadata": {
        "id": "ZgcCYPXW_InN",
        "colab_type": "code",
        "cellView": "form",
        "outputId": "d6e00f11-905e-4b91-b7a5-34a2bd52412e",
        "colab": {
          "base_uri": "https://localhost:8080/",
          "height": 85
        }
      },
      "source": [
        "#@title Download Dataset Parser\n",
        "!git clone https://github.com/ndrplz/small_norb"
      ],
      "execution_count": 2,
      "outputs": [
        {
          "output_type": "stream",
          "text": [
            "Cloning into 'small_norb'...\n",
            "remote: Enumerating objects: 79, done.\u001b[K\n",
            "remote: Total 79 (delta 0), reused 0 (delta 0), pack-reused 79\u001b[K\n",
            "Unpacking objects: 100% (79/79), done.\n"
          ],
          "name": "stdout"
        }
      ]
    },
    {
      "cell_type": "code",
      "metadata": {
        "id": "HTvXINs3_pvI",
        "colab_type": "code",
        "outputId": "73d46be3-b118-43ba-f536-8756e1fe1a52",
        "cellView": "both",
        "colab": {
          "base_uri": "https://localhost:8080/",
          "height": 119
        }
      },
      "source": [
        "#@title Initialize Dataset Parser\n",
        "\n",
        "from small_norb.smallnorb.dataset import SmallNORBDataset\n",
        "\n",
        "dataset = SmallNORBDataset(dataset_root='dataset')\n",
        "categories = ['animal', 'human', 'airplane', 'truck', 'car']"
      ],
      "execution_count": 3,
      "outputs": [
        {
          "output_type": "stream",
          "text": [
            "Loading images...: 100%|██████████| 48600/48600 [00:38<00:00, 1273.37it/s]\n",
            "Loading categories...: 100%|██████████| 24300/24300 [00:00<00:00, 1027829.08it/s]\n",
            "Loading info...: 100%|██████████| 24300/24300 [00:00<00:00, 307303.74it/s]\n",
            "Loading images...: 100%|██████████| 48600/48600 [00:37<00:00, 1294.36it/s]\n",
            "Loading categories...: 100%|██████████| 24300/24300 [00:00<00:00, 1016684.33it/s]\n",
            "Loading info...: 100%|██████████| 24300/24300 [00:00<00:00, 315320.23it/s]\n"
          ],
          "name": "stderr"
        }
      ]
    },
    {
      "cell_type": "code",
      "metadata": {
        "id": "yW7MWz6GeECJ",
        "colab_type": "code",
        "cellView": "both",
        "colab": {}
      },
      "source": [
        "#@title Data Preprocessing Functions\n",
        "\n",
        "import random\n",
        "import numpy as np\n",
        "from keras.utils import to_categorical\n",
        "\n",
        "def split(dataset, conf):\n",
        "  random.shuffle(dataset)\n",
        "  \n",
        "  # class based sets\n",
        "  train_set = [ [] for i in range(len(categories)) ]\n",
        "  val_set = [ [] for i in range(len(categories)) ]\n",
        "  test_set = [ [] for i in range(len(categories)) ]\n",
        "  \n",
        "  for toy_set in dataset:\n",
        "    cat = toy_set[0].category\n",
        "    if len(val_set[cat]) < conf['val']:\n",
        "      val_set[cat].append(toy_set)\n",
        "    elif len(test_set[cat]) < conf['test']:\n",
        "      test_set[cat].append(toy_set)\n",
        "    else:\n",
        "      train_set[cat].append(toy_set)\n",
        "      \n",
        "      \n",
        "  train_set  = [toy_set for cat in train_set for toy_set in cat]\n",
        "  val_set  = [toy_set for cat in val_set for toy_set in cat]\n",
        "  test_set  = [toy_set for cat in test_set for toy_set in cat]\n",
        "  return train_set, val_set, test_set\n",
        "\n",
        "def filter(dataset, conf):\n",
        "  x_values, y_values = [], []\n",
        "  for toy_set in dataset:\n",
        "    for sample in toy_set:\n",
        "      if sample.elevation not in conf['elevation']:\n",
        "        continue\n",
        "      if sample.azimuth not in conf['azimuth']:\n",
        "        continue\n",
        "      if sample.lighting not in conf['lighting']:\n",
        "        continue\n",
        "        \n",
        "      if sample.category in conf['categories']:\n",
        "        if sample.elevation not in conf.categories[sample.category]['elevation']:\n",
        "          continue\n",
        "        if sample.azimuth not in conf.categories[sample.category]['azimuth']:\n",
        "          continue\n",
        "        if sample.lighting not in conf.categories[sample.category]['lighting']:\n",
        "          continue\n",
        "      x_values.append( np.expand_dims(sample.image_lt, axis=-1) )\n",
        "      y_values.append( to_categorical(sample.category, len(categories) ) )\n",
        "  return np.asarray(x_values), np.asarray(y_values)\n",
        "\n",
        "def process(conf):\n",
        "  # Get original test and train sets\n",
        "  test_set = dataset.group_dataset_by_category_and_instance('test')\n",
        "  train_set = dataset.group_dataset_by_category_and_instance('train')\n",
        "\n",
        "  # Split dataset into train/val/test\n",
        "  train_set, val_set, test_set = split( test_set + train_set, conf['split'] )\n",
        "\n",
        "  # Preprocess datasets to match our configurations\n",
        "  train_x, train_y = filter(train_set, conf['train'])\n",
        "  val_x, val_y = filter(val_set, conf['train'])\n",
        "  test_x, test_y = filter(test_set, conf['test'])\n",
        "  \n",
        "  return (train_x, train_y), (val_x, val_y), (test_x, test_y)"
      ],
      "execution_count": 0,
      "outputs": []
    },
    {
      "cell_type": "markdown",
      "metadata": {
        "id": "T-OQ5_N5RYWs",
        "colab_type": "text"
      },
      "source": [
        "# Prepare Models"
      ]
    },
    {
      "cell_type": "code",
      "metadata": {
        "id": "BAHHpm0MqvNP",
        "colab_type": "code",
        "cellView": "form",
        "colab": {}
      },
      "source": [
        "#@title LocalNormalization Definition\n",
        "from keras.engine import Layer, InputSpec\n",
        "from keras import initializers\n",
        "from keras import regularizers\n",
        "from keras import constraints\n",
        "from keras import backend as K\n",
        "from keras.layers import Input, Add, Dense,Dropout, Lambda\n",
        "\n",
        "from keras.utils.generic_utils import get_custom_objects\n",
        "\n",
        "\n",
        "class LocalNormalization(Layer):\n",
        "\n",
        "    def __init__(self,\n",
        "                 groupsize=32,\n",
        "                 axis=0,\n",
        "                 epsilon=1e-5,\n",
        "                 center=True,\n",
        "                 scale=True,\n",
        "                 beta_initializer='zeros',\n",
        "                 gamma_initializer='ones',\n",
        "                 beta_regularizer=None,\n",
        "                 gamma_regularizer=None,\n",
        "                 beta_constraint=None,\n",
        "                 gamma_constraint=None,\n",
        "                 batch_size = 100,\n",
        "                 **kwargs):\n",
        "        super(LocalNormalization, self).__init__(**kwargs)\n",
        "        self.supports_masking = True\n",
        "        self.groups = groupsize\n",
        "        self.batch_size = batch_size\n",
        "        self.axis = axis\n",
        "        self.epsilon = epsilon\n",
        "        self.center = center\n",
        "        self.scale = scale\n",
        "        self.beta_initializer = initializers.get(beta_initializer)\n",
        "        self.gamma_initializer = initializers.get(gamma_initializer)\n",
        "        self.beta_regularizer = regularizers.get(beta_regularizer)\n",
        "        self.gamma_regularizer = regularizers.get(gamma_regularizer)\n",
        "        self.beta_constraint = constraints.get(beta_constraint)\n",
        "        self.gamma_constraint = constraints.get(gamma_constraint)\n",
        "\n",
        "    def build(self, input_shape):\n",
        "        dim = input_shape[self.axis]\n",
        "        \n",
        "        if dim is None:\n",
        "            dim = self.batch_size\n",
        "\n",
        "        if dim < self.groups:\n",
        "            raise ValueError('Number of groups (' + str(self.groups) + ') cannot be '\n",
        "                             'more than the batch size (' +\n",
        "                             str(dim) + ').')\n",
        "\n",
        "        if dim % self.groups != 0:\n",
        "            raise ValueError('Number of groups (' + str(self.groups) + ') must be a '\n",
        "                             'multiple of the batch size (' +\n",
        "                             str(dim) + ').')\n",
        "\n",
        "        self.input_spec = InputSpec(ndim=len(input_shape),axes={self.axis: dim})\n",
        "        shape = (dim//self.groups,input_shape[-1])\n",
        "\n",
        "        if self.scale:\n",
        "            self.gamma = self.add_weight(shape=shape,\n",
        "                                         name='gamma',\n",
        "                                         initializer=self.gamma_initializer,\n",
        "                                         regularizer=self.gamma_regularizer,\n",
        "                                         constraint=self.gamma_constraint)\n",
        "        else:\n",
        "            self.gamma = None\n",
        "        if self.center:\n",
        "            self.beta = self.add_weight(shape=shape,\n",
        "                                        name='beta',\n",
        "                                        initializer=self.beta_initializer,\n",
        "                                        regularizer=self.beta_regularizer,\n",
        "                                        constraint=self.beta_constraint)\n",
        "        else:\n",
        "            self.beta = None\n",
        "       \n",
        "        \n",
        "        self.built = True\n",
        "\n",
        "    def call(self, inputs, **kwargs):\n",
        "        input_shape = K.int_shape(inputs)\n",
        "        tensor_input_shape = K.shape(inputs)\n",
        "\n",
        "        # Prepare broadcasting shape.\n",
        "        reduction_axes = list(range(len(input_shape)))\n",
        "        del reduction_axes[self.axis]\n",
        "        \n",
        "        div = lambda x:x//self.groups\n",
        "        \n",
        "        broadcast_shape = [1] * len(input_shape)\n",
        "        broadcast_shape[self.axis] = div(self.batch_size)\n",
        "        broadcast_shape[-1] = input_shape[-1]\n",
        "        broadcast_shape.insert(1, 1)\n",
        "\n",
        "        reshape_group_shape = K.int_shape(inputs)\n",
        "        group_axes = [reshape_group_shape[i] for i in range(len(input_shape))]\n",
        "        group_axes[self.axis] = div(self.batch_size)\n",
        "        group_axes.insert(1, self.groups)\n",
        "        \n",
        "\n",
        "        # reshape inputs to new group shape\n",
        "        group_shape = [group_axes[0], self.groups]+group_axes[2:]\n",
        "        group_shape = K.stack(group_shape)\n",
        "        \n",
        "        inputs = K.reshape(inputs, group_shape)\n",
        "        \n",
        "        group_reduction_axes = list(range(len(group_axes)))\n",
        "        group_reduction_axes = [1,2,3]\n",
        "\n",
        "        mean = K.mean(inputs, axis=group_reduction_axes, keepdims=True)\n",
        "        variance = K.var(inputs, axis=group_reduction_axes, keepdims=True)\n",
        "\n",
        "        inputs = (inputs - mean) / (K.sqrt(variance + self.epsilon))\n",
        "\n",
        "        # prepare broadcast shape\n",
        "        inputs = K.reshape(inputs, group_shape)\n",
        "        \n",
        "        outputs = inputs\n",
        "        \n",
        "        # In this case we must explicitly broadcast all parameters.\n",
        "        if self.scale:           \n",
        "            broadcast_gamma = K.reshape(self.gamma, broadcast_shape)\n",
        "            outputs = outputs * broadcast_gamma\n",
        "            \n",
        "        if self.center:\n",
        "            broadcast_beta = K.reshape(self.beta, broadcast_shape)\n",
        "            outputs = outputs + broadcast_beta\n",
        "        outputs = K.reshape(outputs, tensor_input_shape)\n",
        "\n",
        "        return outputs\n",
        "\n",
        "    def get_config(self):\n",
        "        config = {\n",
        "            'groups': self.groups,\n",
        "            'axis': self.axis,\n",
        "            'epsilon': self.epsilon,\n",
        "            'center': self.center,\n",
        "            'scale': self.scale,\n",
        "            'beta_initializer': initializers.serialize(self.beta_initializer),\n",
        "            'gamma_initializer': initializers.serialize(self.gamma_initializer),\n",
        "            'beta_regularizer': regularizers.serialize(self.beta_regularizer),\n",
        "            'gamma_regularizer': regularizers.serialize(self.gamma_regularizer),\n",
        "            'beta_constraint': constraints.serialize(self.beta_constraint),\n",
        "            'gamma_constraint': constraints.serialize(self.gamma_constraint)\n",
        "        }\n",
        "        base_config = super(LocalNormalization, self).get_config()\n",
        "        return dict(list(base_config.items()) + list(config.items()))\n",
        "\n",
        "    def compute_output_shape(self, input_shape):\n",
        "        return input_shape"
      ],
      "execution_count": 0,
      "outputs": []
    },
    {
      "cell_type": "code",
      "metadata": {
        "id": "iFN-kljne4EB",
        "colab_type": "code",
        "cellView": "form",
        "colab": {}
      },
      "source": [
        "#@title VGG Model Definition\n",
        "\n",
        "from keras.models import Model\n",
        "from keras.layers import Input, Conv2D, Activation, Flatten, Dense, MaxPooling2D, BatchNormalization, Dropout\n",
        "from keras.regularizers import l2\n",
        "\n",
        "def norm(norm_type, batch_size=None, groupsize=None):\n",
        "  if norm_type=='batch':\n",
        "    return BatchNormalization()\n",
        "  elif norm_type=='local':\n",
        "    return LocalNormalization(axis=0, batch_size=batch_size, groupsize=groupsize)\n",
        "  return None\n",
        "\n",
        "def build_model(name='vgg', input_shape=(96,96,1,), input_layer=None, nb_classes=5, weight_decay=0.0005, norm_type='batch', batch_size=128, group_size=8):  \n",
        "  if input_layer is None:\n",
        "    inputs = Input(shape=input_shape)\n",
        "  else:\n",
        "    inputs = input_layer\n",
        "  x = inputs\n",
        "  \n",
        "  x = Conv2D(64, (3, 3), padding='same',kernel_regularizer=l2(weight_decay))(x)\n",
        "  x = Activation('relu')(x)\n",
        "  x = norm(norm_type, batch_size=batch_size, groupsize=group_size)(x)\n",
        "\n",
        "  x = Conv2D(64, (3, 3), padding='same',kernel_regularizer=l2(weight_decay))(x)\n",
        "  x = Activation('relu')(x)\n",
        "  x = norm(norm_type, batch_size=batch_size, groupsize=group_size)(x)\n",
        "\n",
        "  x = MaxPooling2D(pool_size=(2, 2))(x)\n",
        "\n",
        "  x = Conv2D(128, (3, 3), padding='same',kernel_regularizer=l2(weight_decay))(x)\n",
        "  x = Activation('relu')(x)\n",
        "  x = norm(norm_type, batch_size=batch_size, groupsize=group_size)(x)\n",
        "\n",
        "  x = Conv2D(128, (3, 3), padding='same',kernel_regularizer=l2(weight_decay))(x)\n",
        "  x = Activation('relu')(x)\n",
        "  x = norm(norm_type, batch_size=batch_size, groupsize=group_size)(x)\n",
        "\n",
        "  x = MaxPooling2D(pool_size=(2, 2))(x)\n",
        "\n",
        "  x = Conv2D(256, (3, 3), padding='same',kernel_regularizer=l2(weight_decay))(x)\n",
        "  x = Activation('relu')(x)\n",
        "  x = norm(norm_type, batch_size=batch_size, groupsize=group_size)(x)\n",
        "\n",
        "  x = Conv2D(256, (3, 3), padding='same',kernel_regularizer=l2(weight_decay))(x)\n",
        "  x = Activation('relu')(x)\n",
        "  x = norm(norm_type, batch_size=batch_size, groupsize=group_size)(x)\n",
        "\n",
        "  x = Conv2D(256, (3, 3), padding='same',kernel_regularizer=l2(weight_decay))(x)\n",
        "  x = Activation('relu')(x)\n",
        "  x = norm(norm_type, batch_size=batch_size, groupsize=group_size)(x)\n",
        "\n",
        "  x = MaxPooling2D(pool_size=(2, 2))(x)\n",
        "\n",
        "\n",
        "  x = Conv2D(512, (3, 3), padding='same',kernel_regularizer=l2(weight_decay))(x)\n",
        "  x = Activation('relu')(x)\n",
        "  x = norm(norm_type, batch_size=batch_size, groupsize=group_size)(x)\n",
        "\n",
        "  x = Conv2D(512, (3, 3), padding='same',kernel_regularizer=l2(weight_decay))(x)\n",
        "  x = Activation('relu')(x)\n",
        "  x = norm(norm_type, batch_size=batch_size, groupsize=group_size)(x)\n",
        "\n",
        "  x = Conv2D(512, (3, 3), padding='same',kernel_regularizer=l2(weight_decay))(x)\n",
        "  x = Activation('relu')(x)\n",
        "  x = norm(norm_type, batch_size=batch_size, groupsize=group_size)(x)\n",
        "\n",
        "  x = MaxPooling2D(pool_size=(2, 2))(x)\n",
        "\n",
        "\n",
        "  x = Conv2D(512, (3, 3), padding='same',kernel_regularizer=l2(weight_decay))(x)\n",
        "  x = Activation('relu')(x)\n",
        "  x = norm(norm_type, batch_size=batch_size, groupsize=group_size)(x)\n",
        "\n",
        "  x = Conv2D(512, (3, 3), padding='same',kernel_regularizer=l2(weight_decay))(x)\n",
        "  x = Activation('relu')(x)\n",
        "  x = norm(norm_type, batch_size=batch_size, groupsize=group_size)(x)\n",
        "\n",
        "  x = Conv2D(512, (3, 3), padding='same',kernel_regularizer=l2(weight_decay))(x)\n",
        "  x = Activation('relu')(x)\n",
        "  x = norm(norm_type, batch_size=batch_size, groupsize=group_size)(x)\n",
        "\n",
        "  x = MaxPooling2D(pool_size=(2, 2))(x)\n",
        "  x = Dropout(0.5)(x)\n",
        "\n",
        "  x = Flatten()(x)\n",
        "  x = Dense(512,kernel_regularizer=l2(weight_decay))(x)\n",
        "  x = Activation('relu')(x)\n",
        "\n",
        "  x = Dropout(0.5)(x)\n",
        "  x = Dense(nb_classes)(x)\n",
        "  x = Activation('softmax', name=name+'_output')(x)\n",
        "  \n",
        "  outputs = x\n",
        "  return Model(name=name, inputs=inputs, outputs=outputs)"
      ],
      "execution_count": 0,
      "outputs": []
    },
    {
      "cell_type": "markdown",
      "metadata": {
        "id": "2UCL70SSJ0bs",
        "colab_type": "text"
      },
      "source": [
        "## Initialize Models"
      ]
    },
    {
      "cell_type": "code",
      "metadata": {
        "id": "NZZvr3lvRHqo",
        "colab_type": "code",
        "cellView": "form",
        "colab": {}
      },
      "source": [
        "#@title Configure Models\n",
        "\n",
        "nb_classes = 5\n",
        "image_height = 96\n",
        "image_width = 96\n",
        "input_shape = (image_height, image_width, 1)\n",
        "batch_size = 128\n",
        "group_size = 4\n",
        "\n",
        "inputs = Input(shape=input_shape)\n",
        "model_batch = build_model(name='batch_vgg', input_layer=inputs, norm_type='batch', batch_size=batch_size, group_size=group_size, nb_classes=nb_classes)\n",
        "model_local = build_model(name='local_vgg', input_layer=inputs, norm_type='local', batch_size=batch_size, group_size=group_size, nb_classes=nb_classes)"
      ],
      "execution_count": 0,
      "outputs": []
    },
    {
      "cell_type": "code",
      "metadata": {
        "id": "L9yZ_LrjRaVC",
        "colab_type": "code",
        "cellView": "form",
        "colab": {}
      },
      "source": [
        "#@title (Optional) Load Weights\n",
        "\n",
        "#model_batch.load_weights('weights-batch.h5')\n",
        "#model_local.load_weights('weights-local.h5')"
      ],
      "execution_count": 0,
      "outputs": []
    },
    {
      "cell_type": "code",
      "metadata": {
        "id": "Ymo7tnnF892J",
        "colab_type": "code",
        "cellView": "form",
        "outputId": "f2eb9e97-75e5-455c-d788-4fcde932383f",
        "colab": {
          "base_uri": "https://localhost:8080/",
          "height": 194
        }
      },
      "source": [
        "#@title (Deprecated) Combine Models\n",
        "\n",
        "'''\n",
        "from keras.optimizers import SGD\n",
        "\n",
        "losses = {\n",
        "\tmodel_batch.layers[-1].name: 'categorical_crossentropy',\n",
        "\tmodel_local.layers[-1].name: 'categorical_crossentropy',\n",
        "}\n",
        "\n",
        "model = Model(name='vgg', inputs=inputs, outputs=[model_batch.output, model_local.output])\n",
        "model.compile(loss=losses, optimizer=SGD(lr=0.1, momentum=0.9), metrics=['accuracy'])\n",
        "\n",
        "model.summary()\n",
        "'''"
      ],
      "execution_count": 9,
      "outputs": [
        {
          "output_type": "execute_result",
          "data": {
            "text/plain": [
              "\"\\nfrom keras.optimizers import SGD\\n\\nlosses = {\\n\\tmodel_batch.layers[-1].name: 'categorical_crossentropy',\\n\\tmodel_local.layers[-1].name: 'categorical_crossentropy',\\n}\\n\\nmodel = Model(name='vgg', inputs=inputs, outputs=[model_batch.output, model_local.output])\\nmodel.compile(loss=losses, optimizer=SGD(lr=0.1, momentum=0.9), metrics=['accuracy'])\\n\\nmodel.summary()\\n\""
            ]
          },
          "metadata": {
            "tags": []
          },
          "execution_count": 9
        }
      ]
    },
    {
      "cell_type": "markdown",
      "metadata": {
        "id": "7eT_idAw1_gY",
        "colab_type": "text"
      },
      "source": [
        "# Train Models"
      ]
    },
    {
      "cell_type": "code",
      "metadata": {
        "id": "iiYNTb9o_9zR",
        "colab_type": "code",
        "cellView": "form",
        "colab": {}
      },
      "source": [
        "#@title Configure Dataset\n",
        "\n",
        "import random\n",
        "\n",
        "# TODO: Add camera options to configuration\n",
        "train_data_conf = {\n",
        "    'elevation': list(range(9)),\n",
        "    'azimuth': list(range(18)),\n",
        "    'lighting': [0,1,2,3], #list(range(6))\n",
        "    'categories': {}\n",
        "}\n",
        "test_data_conf = {\n",
        "    'elevation': list(range(9)),\n",
        "    'azimuth': list(range(18)),\n",
        "    'lighting': list(range(6)),\n",
        "    'categories': {}\n",
        "}\n",
        "data_conf = {\n",
        "    'train': train_data_conf,\n",
        "    'test': test_data_conf,\n",
        "    'split': {\n",
        "        'train': 8,\n",
        "        'val': 1,\n",
        "        'test': 1\n",
        "    }\n",
        "}\n",
        "\n",
        "(train_x, train_y), (val_x, val_y), (test_x, test_y) = process(data_conf)"
      ],
      "execution_count": 0,
      "outputs": []
    },
    {
      "cell_type": "code",
      "metadata": {
        "id": "iSYCOgn8-Xs2",
        "colab_type": "code",
        "cellView": "form",
        "colab": {}
      },
      "source": [
        "#@title Trim Dataset\n",
        "\n",
        "# trim dataset according to batch_size for LocalNorm to work properly\n",
        "\n",
        "train_x = train_x[:((len(train_x) // batch_size) * batch_size)]\n",
        "train_y = train_y[:((len(train_y) // batch_size) * batch_size)]\n",
        "val_x = val_x[:((len(val_x) // batch_size) * batch_size)]\n",
        "val_y = val_y[:((len(val_y) // batch_size) * batch_size)]\n",
        "test_x = test_x[:((len(test_x) // batch_size) * batch_size)]\n",
        "test_y = test_y[:((len(test_y) // batch_size) * batch_size)]"
      ],
      "execution_count": 0,
      "outputs": []
    },
    {
      "cell_type": "code",
      "metadata": {
        "id": "MXDXiqiGCGT0",
        "colab_type": "code",
        "outputId": "90d82ba8-cbaa-4eb8-89dc-3ff9c2392395",
        "colab": {
          "base_uri": "https://localhost:8080/",
          "height": 357
        },
        "cellView": "form"
      },
      "source": [
        "#@title Inspect Dataset\n",
        "\n",
        "print('Input Shape:')\n",
        "print(train_x.shape[1:])\n",
        "\n",
        "print('Train Dataset Size:')\n",
        "print(train_x.shape[0])\n",
        "\n",
        "print('Val Dataset Size:')\n",
        "print(val_x.shape[0])\n",
        "\n",
        "print('Test Dataset Size:')\n",
        "print(test_x.shape[0])\n",
        "\n",
        "import numpy as np\n",
        "import matplotlib.pyplot as plt\n",
        "\n",
        "index = np.random.randint(len(train_x))\n",
        "\n",
        "plt.subplot(1,2,1)\n",
        "plt.imshow(train_x[index][:,:,0], cmap='gray')"
      ],
      "execution_count": 29,
      "outputs": [
        {
          "output_type": "stream",
          "text": [
            "Input Shape:\n",
            "(96, 96, 1)\n",
            "Train Dataset Size:\n",
            "12928\n",
            "Val Dataset Size:\n",
            "1536\n",
            "Test Dataset Size:\n",
            "2304\n"
          ],
          "name": "stdout"
        },
        {
          "output_type": "execute_result",
          "data": {
            "text/plain": [
              "<matplotlib.image.AxesImage at 0x7f7a0eca61d0>"
            ]
          },
          "metadata": {
            "tags": []
          },
          "execution_count": 29
        },
        {
          "output_type": "display_data",
          "data": {
            "image/png": "[encoded data removed]",
            "text/plain": [
              "<Figure size 432x288 with 1 Axes>"
            ]
          },
          "metadata": {
            "tags": []
          }
        }
      ]
    },
    {
      "cell_type": "code",
      "metadata": {
        "id": "N4wdnRKp2kbb",
        "colab_type": "code",
        "outputId": "9af0c674-29bf-4a8a-e258-7643d5323f1e",
        "cellView": "both",
        "colab": {
          "base_uri": "https://localhost:8080/",
          "height": 1000
        }
      },
      "source": [
        "#@title Train & Monitor\n",
        "\n",
        "from keras.callbacks import ModelCheckpoint, EarlyStopping, LearningRateScheduler\n",
        "from keras.optimizers import SGD\n",
        "\n",
        "initial_epoch = 0\n",
        "final_epoch = 100\n",
        "learning_rate = 1e-5\n",
        "drop_freq_epoch = 10\n",
        "drop_rate = 0.1\n",
        "\n",
        "# Checkpoints\n",
        "checkpoint_batch = ModelCheckpoint('weights-batch.h5', monitor='val_acc', verbose=1, save_best_only=True, save_weights_only=False, mode='auto', period=1)\n",
        "checkpoint_local = ModelCheckpoint('weights-local.h5', monitor='val_acc', verbose=1, save_best_only=True, save_weights_only=False, mode='auto', period=1)\n",
        "\n",
        "# Early Stopping\n",
        "early_batch = EarlyStopping(monitor='val_acc', min_delta=0, patience=10, verbose=1, mode='auto')\n",
        "early_local = EarlyStopping(monitor='val_acc', min_delta=0, patience=10, verbose=1, mode='auto')\n",
        "\n",
        "# Learning Rate Regularizer\n",
        "def lr_scheduler(epoch):\n",
        "  return learning_rate * (drop_rate ** (epoch // drop_freq_epoch))\n",
        "\n",
        "lr_regularizer_batch = LearningRateScheduler(lr_scheduler)\n",
        "lr_regularizer_local = LearningRateScheduler(lr_scheduler)\n",
        "\n",
        "# Optimizers\n",
        "optimizer_batch = SGD(lr=learning_rate, momentum=0.9)\n",
        "optimizer_local = SGD(lr=learning_rate, momentum=0.9)\n",
        "\n",
        "# Compile\n",
        "model_batch.compile(loss='categorical_crossentropy', optimizer=optimizer_batch, metrics=['accuracy'])\n",
        "model_local.compile(loss='categorical_crossentropy', optimizer=optimizer_local, metrics=['accuracy'])\n",
        "\n",
        "# Train\n",
        "hist_batch = model_batch.fit(x=train_x, y=train_y, batch_size=batch_size, initial_epoch=initial_epoch, epochs=final_epoch, validation_data=(val_x, val_y), callbacks=[checkpoint_batch, early_batch, lr_regularizer_batch])\n",
        "hist_local = model_local.fit(x=train_x, y=train_y, batch_size=batch_size, initial_epoch=initial_epoch, epochs=final_epoch, validation_data=(val_x, val_y), callbacks=[checkpoint_local, early_local, lr_regularizer_local])"
      ],
      "execution_count": 0,
      "outputs": [
        {
          "output_type": "stream",
          "text": [
            "Train on 12928 samples, validate on 1536 samples\n",
            "Epoch 1/100\n",
            "12928/12928 [==============================] - 92s 7ms/step - loss: 6.1152 - acc: 0.2554 - val_loss: 4.3044 - val_acc: 0.3197\n",
            "\n",
            "Epoch 00001: val_acc improved from -inf to 0.31966, saving model to weights-batch.h5\n",
            "Epoch 2/100\n",
            "12928/12928 [==============================] - 86s 7ms/step - loss: 5.0263 - acc: 0.3640 - val_loss: 3.9830 - val_acc: 0.4069\n",
            "\n",
            "Epoch 00002: val_acc improved from 0.31966 to 0.40690, saving model to weights-batch.h5\n",
            "Epoch 3/100\n",
            "12928/12928 [==============================] - 86s 7ms/step - loss: 4.4995 - acc: 0.4394 - val_loss: 3.6423 - val_acc: 0.5143\n",
            "\n",
            "Epoch 00003: val_acc improved from 0.40690 to 0.51432, saving model to weights-batch.h5\n",
            "Epoch 4/100\n",
            "12928/12928 [==============================] - 86s 7ms/step - loss: 4.2379 - acc: 0.4745 - val_loss: 4.4435 - val_acc: 0.2747\n",
            "\n",
            "Epoch 00004: val_acc did not improve from 0.51432\n",
            "Epoch 5/100\n",
            "12928/12928 [==============================] - 86s 7ms/step - loss: 4.0244 - acc: 0.5248 - val_loss: 4.0644 - val_acc: 0.3945\n",
            "\n",
            "Epoch 00005: val_acc did not improve from 0.51432\n",
            "Epoch 6/100\n",
            "12928/12928 [==============================] - 86s 7ms/step - loss: 3.8203 - acc: 0.5658 - val_loss: 3.9290 - val_acc: 0.4655\n",
            "\n",
            "Epoch 00006: val_acc did not improve from 0.51432\n",
            "Epoch 7/100\n",
            "12928/12928 [==============================] - 86s 7ms/step - loss: 3.6472 - acc: 0.6031 - val_loss: 3.2908 - val_acc: 0.6374\n",
            "\n",
            "Epoch 00007: val_acc improved from 0.51432 to 0.63737, saving model to weights-batch.h5\n",
            "Epoch 8/100\n",
            "12928/12928 [==============================] - 86s 7ms/step - loss: 3.5080 - acc: 0.6449 - val_loss: 3.3257 - val_acc: 0.6322\n",
            "\n",
            "Epoch 00008: val_acc did not improve from 0.63737\n",
            "Epoch 9/100\n",
            "12928/12928 [==============================] - 86s 7ms/step - loss: 3.4288 - acc: 0.6662 - val_loss: 3.2186 - val_acc: 0.6921\n",
            "\n",
            "Epoch 00009: val_acc improved from 0.63737 to 0.69206, saving model to weights-batch.h5\n",
            "Epoch 10/100\n",
            "12928/12928 [==============================] - 86s 7ms/step - loss: 3.3323 - acc: 0.6891 - val_loss: 3.5211 - val_acc: 0.5736\n",
            "\n",
            "Epoch 00010: val_acc did not improve from 0.69206\n",
            "Epoch 11/100\n",
            "12928/12928 [==============================] - 86s 7ms/step - loss: 3.2675 - acc: 0.7112 - val_loss: 3.0101 - val_acc: 0.7858\n",
            "\n",
            "Epoch 00011: val_acc improved from 0.69206 to 0.78581, saving model to weights-batch.h5\n",
            "Epoch 12/100\n",
            "12928/12928 [==============================] - 86s 7ms/step - loss: 3.2348 - acc: 0.7205 - val_loss: 2.8532 - val_acc: 0.8385\n",
            "\n",
            "Epoch 00012: val_acc improved from 0.78581 to 0.83854, saving model to weights-batch.h5\n",
            "Epoch 13/100\n",
            "12928/12928 [==============================] - 86s 7ms/step - loss: 3.2320 - acc: 0.7259 - val_loss: 2.8348 - val_acc: 0.8438\n",
            "\n",
            "Epoch 00013: val_acc improved from 0.83854 to 0.84375, saving model to weights-batch.h5\n",
            "Epoch 14/100\n",
            "12928/12928 [==============================] - 86s 7ms/step - loss: 3.2141 - acc: 0.7225 - val_loss: 2.8186 - val_acc: 0.8555\n",
            "\n",
            "Epoch 00014: val_acc improved from 0.84375 to 0.85547, saving model to weights-batch.h5\n",
            "Epoch 15/100\n",
            "12928/12928 [==============================] - 86s 7ms/step - loss: 3.2089 - acc: 0.7322 - val_loss: 2.8107 - val_acc: 0.8665\n",
            "\n",
            "Epoch 00015: val_acc improved from 0.85547 to 0.86654, saving model to weights-batch.h5\n",
            "Epoch 16/100\n",
            "12928/12928 [==============================] - 86s 7ms/step - loss: 3.1855 - acc: 0.7350 - val_loss: 2.8155 - val_acc: 0.8542\n",
            "\n",
            "Epoch 00016: val_acc did not improve from 0.86654\n",
            "Epoch 17/100\n",
            "12928/12928 [==============================] - 86s 7ms/step - loss: 3.1739 - acc: 0.7406 - val_loss: 2.8110 - val_acc: 0.8535\n",
            "\n",
            "Epoch 00017: val_acc did not improve from 0.86654\n",
            "Epoch 18/100\n",
            "12928/12928 [==============================] - 86s 7ms/step - loss: 3.1793 - acc: 0.7393 - val_loss: 2.8014 - val_acc: 0.8659\n",
            "\n",
            "Epoch 00018: val_acc did not improve from 0.86654\n",
            "Epoch 19/100\n",
            " 3072/12928 [======>.......................] - ETA: 1:02 - loss: 3.1847 - acc: 0.7314"
          ],
          "name": "stdout"
        }
      ]
    },
    {
      "cell_type": "code",
      "metadata": {
        "id": "2BNMWytKP_Ow",
        "colab_type": "code",
        "colab": {},
        "cellView": "both"
      },
      "source": [
        "#@title Evaluate Models\n",
        "results_batch = model_batch.evaluate(x=text_x, y=novel_test_y, batch_size=batch_size)\n",
        "results_local = model_local.evaluate(x=test_x, y=novel_test_y, batch_size=batch_size)\n",
        "\n",
        "print('BatchNorm Test Accuracy:')\n",
        "print(results_batch[1])\n",
        "\n",
        "print('LocalNorm Test Accuracy:')\n",
        "print(results_local[1])"
      ],
      "execution_count": 0,
      "outputs": []
    },
    {
      "cell_type": "code",
      "metadata": {
        "id": "6hsjwfS0LHtX",
        "colab_type": "code",
        "colab": {},
        "cellView": "both"
      },
      "source": [
        "#@title Save Training \n",
        "\n",
        "import json\n",
        "from google.colab import files\n",
        "\n",
        "def save_training():\n",
        "  train_conf = {\n",
        "      'learning_rate': learning_rate,\n",
        "      'drop_freq_epoch': drop_freq_epoch,\n",
        "      'drop_rate': drop_rate\n",
        "  }\n",
        "  result_batch = {\n",
        "      'history': hist_batch.history,\n",
        "      'results': {\n",
        "          'test': results_batch\n",
        "  }\n",
        "  result_local = {\n",
        "      'history': hist_local.history,\n",
        "      'results': {\n",
        "          'test': results_local\n",
        "      }\n",
        "  }\n",
        "  \n",
        "  with open('data.json', 'w') as f:\n",
        "      json.dump(data_conf, f)\n",
        "  with open('train.json', 'w') as f:\n",
        "      json.dump(train_conf, f)\n",
        "\n",
        "  with open('result-batch.json', 'w') as f:\n",
        "      json.dumps(result_batch)\n",
        "  with open('result-local.json', 'w') as f:\n",
        "      json.dumps(result_local)\n",
        "      \n",
        "  with open('model-batch.json', 'w') as f:\n",
        "      f.write(model_batch.to_json())\n",
        "  with open('model-local.json', 'w') as f:\n",
        "      f.write(model_local.to_json())\n",
        "\n",
        "    \n",
        "def download_training():\n",
        "  files.download('data.json') \n",
        "  files.download('train.json') \n",
        "  files.download('model-batch.json') \n",
        "  files.download('model-local.json') \n",
        "  files.download('result-batch.json') \n",
        "  files.download('result-local.json') \n",
        "  files.download('weights-batch.json') \n",
        "  files.download('weights-local.json') \n",
        "\n",
        "save_training()\n",
        "download_training()"
      ],
      "execution_count": 0,
      "outputs": []
    },
    {
      "cell_type": "markdown",
      "metadata": {
        "id": "XAK-oPZqM38e",
        "colab_type": "text"
      },
      "source": [
        "# Test Models"
      ]
    },
    {
      "cell_type": "code",
      "metadata": {
        "id": "w_6XNrOotjRm",
        "colab_type": "code",
        "cellView": "form",
        "colab": {}
      },
      "source": [
        "#@title Plot Helper\n",
        "%matplotlib inline\n",
        "import matplotlib.pyplot as plt\n",
        "\n",
        "def plot(metrics, legend=['train', 'test'], title='Model Accuracy', xlabel='epoch', ylabel='accuracy'):\n",
        "  for metric in metrics:\n",
        "    plt.plot(metric)\n",
        "  plt.title(title)\n",
        "  plt.ylabel(xlabel)\n",
        "  plt.xlabel(ylabel)\n",
        "  plt.legend(legend, loc='lower right')\n",
        "  plt.show()"
      ],
      "execution_count": 0,
      "outputs": []
    },
    {
      "cell_type": "code",
      "metadata": {
        "id": "B4DXmKU8WxFk",
        "colab_type": "code",
        "colab": {},
        "cellView": "both"
      },
      "source": [
        "#@title Load Training\n",
        "\n",
        "from keras.models import model_from_json\n",
        "\n",
        "def load_training():\n",
        "  with open('train.json') as f:\n",
        "      train_conf = json.load(f)\n",
        "  with open('data.json') as f:\n",
        "      data_conf = json.load(f)\n",
        "  \n",
        "  with open('model-batch.json', 'r') as f:\n",
        "      model_batch = model_from_json(f.read())\n",
        "      model_batch.load_weights('weights-batch.json')\n",
        "  with open('model-local.json', 'r') as f:\n",
        "      model_local = model_from_json(f.read())\n",
        "      model_local.load_weights('weights-local.json')\n",
        "      \n",
        "  with open('result-batch.json') as f:\n",
        "      result_batch = json.load(f)\n",
        "  with open('result-local.json') as f:\n",
        "      result_local = json.load(f)\n",
        "      \n",
        "  return ( data_conf, train_conf, [ model_batch, model_local ], [ result_batch, result_local ] )\n",
        "\n",
        "training_results = load_training()\n",
        "data_conf = training_results[0]\n",
        "train_conf = training_results[1]\n",
        "model_batch = training_results[2][0]\n",
        "model_local = training_results[2][1]\n",
        "result_batch = training_results[3][0]\n",
        "result_local = training_results[3][1]\n",
        "\n",
        "process(data_conf)"
      ],
      "execution_count": 0,
      "outputs": []
    },
    {
      "cell_type": "markdown",
      "metadata": {
        "id": "lGYnlQN6A80w",
        "colab_type": "text"
      },
      "source": [
        "## Accuracy Comparison"
      ]
    },
    {
      "cell_type": "markdown",
      "metadata": {
        "id": "0lIP7CWg4Szy",
        "colab_type": "text"
      },
      "source": [
        "### Validation Accuracy"
      ]
    },
    {
      "cell_type": "code",
      "metadata": {
        "id": "kmx02zsUM_dj",
        "colab_type": "code",
        "colab": {}
      },
      "source": [
        "%matplotlib inline\n",
        "import matplotlib.pyplot as plt\n",
        "\n",
        "legend = [ 'batch', 'local']\n",
        "metrics = [ result_batch['history']['val_acc'], result_local['history']['val_acc'] ]\n",
        "plot(metrics, legend=legend, title='BatchNorm vs LocalNorm Model Accuracy', xlabel='epoch', ylabel='accuracy')"
      ],
      "execution_count": 0,
      "outputs": []
    },
    {
      "cell_type": "markdown",
      "metadata": {
        "id": "JogfUy4stGTx",
        "colab_type": "text"
      },
      "source": [
        "### Test Accuracy"
      ]
    },
    {
      "cell_type": "code",
      "metadata": {
        "id": "W6wujOVr6_O2",
        "colab_type": "code",
        "colab": {}
      },
      "source": [
        "print('BatchNorm Test Accuracy:')\n",
        "print(result_batch['test'][1])\n",
        "\n",
        "print('LocalNorm Test Accuracy:')\n",
        "print(result_local['test'][1])"
      ],
      "execution_count": 0,
      "outputs": []
    },
    {
      "cell_type": "markdown",
      "metadata": {
        "id": "Og3r7y6WCIUa",
        "colab_type": "text"
      },
      "source": [
        "### Experiment Accuracy"
      ]
    },
    {
      "cell_type": "code",
      "metadata": {
        "id": "Z0FYn2Q0CUfF",
        "colab_type": "code",
        "colab": {}
      },
      "source": [
        "print('Train Configurations:')\n",
        "print(train_conf)\n",
        "\n",
        "print('Test Configurations:')\n",
        "print(test_conf)"
      ],
      "execution_count": 0,
      "outputs": []
    },
    {
      "cell_type": "code",
      "metadata": {
        "id": "CS9yyYpb9na9",
        "colab_type": "code",
        "colab": {}
      },
      "source": [
        "experiment_conf = {\n",
        "    'elevation': list(range(6)),\n",
        "    'azimuth': list(range(18)),\n",
        "    'lighting': list(range(6)),\n",
        "    'categories': {}\n",
        "}\n",
        "\n",
        "def experiment(name, experiment_conf):\n",
        "  experiment_x, experiment_y = preprocess(test_set, novel_test_conf)\n",
        "  experiment_x = experiment_x[:((len(experiment_x) // batch_size) * batch_size)]\n",
        "  experiment_y = experiment_y[:((len(experiment_y) // batch_size) * batch_size)]\n",
        "  \n",
        "  experiment_batch = model_batch.evaluate(x=novel_test_x, y=novel_test_y, batch_size=batch_size)\n",
        "  experiment_local = model_local.evaluate(x=novel_test_x, y=novel_test_y, batch_size=batch_size)\n",
        "\n",
        "  print('BatchNorm Experiment Accuracy:')\n",
        "  print(experiment_batch[1])\n",
        "\n",
        "  print('LocalNorm Experiment Accuracy:')\n",
        "  print(experiment_local[1])\n",
        "  \n",
        "  data_conf[name] = experiment_conf\n",
        "  result_batch[name] = experiment_batch\n",
        "  result_local[name] = experiment_local\n",
        "\n",
        "  with open('data.json', 'w') as f:\n",
        "      json.dump(data_conf, f)\n",
        "  with open('result-batch.json', 'w') as f:\n",
        "      json.dumps(result_batch)\n",
        "  with open('result-local.json', 'w') as f:\n",
        "      json.dumps(result_local)\n",
        "  \n",
        "experiment('novel-lighting', experiment_conf)"
      ],
      "execution_count": 0,
      "outputs": []
    },
    {
      "cell_type": "code",
      "metadata": {
        "id": "ThNHkrE7Ozl3",
        "colab_type": "code",
        "colab": {}
      },
      "source": [
        ""
      ],
      "execution_count": 0,
      "outputs": []
    }
  ]
}